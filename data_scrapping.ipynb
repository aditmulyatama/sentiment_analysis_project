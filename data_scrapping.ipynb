{
 "cells": [
  {
   "cell_type": "markdown",
   "metadata": {},
   "source": [
    "# Import Libraries"
   ]
  },
  {
   "cell_type": "code",
   "execution_count": 3,
   "metadata": {},
   "outputs": [],
   "source": [
    "from google_play_scraper import app, reviews, Sort, reviews_all\n",
    "import csv"
   ]
  },
  {
   "cell_type": "code",
   "execution_count": 47,
   "metadata": {},
   "outputs": [],
   "source": [
    "# scrape the review from 'com.HoYoverse.hkrpgoversea'\n",
    "results = reviews_all(\n",
    "    'com.HoYoverse.hkrpgoversea',\n",
    "    lang = 'en',\n",
    "    country = 'us',\n",
    "    count = 10000,\n",
    "    \n",
    ")"
   ]
  },
  {
   "cell_type": "code",
   "execution_count": 51,
   "metadata": {},
   "outputs": [
    {
     "name": "stdout",
     "output_type": "stream",
     "text": [
      "[{'reviewId': '9b1e9713-f88e-4547-be41-b87d840089cc', 'userName': 'A Google user', 'userImage': 'https://play-lh.googleusercontent.com/EGemoI2NTXmTsBVtJqk8jxF9rh8ApRWfsIMQSt2uE4OcpQqbFu7f7NbTK05lx80nuSijCz7sc3a277R67g', 'content': \"Great game, and I enjoy playing it, but now it's starting to crash more often\", 'score': 2, 'thumbsUpCount': 1, 'reviewCreatedVersion': '2.6.0', 'at': datetime.datetime(2024, 10, 29, 13, 45, 27), 'replyContent': None, 'repliedAt': None, 'appVersion': '2.6.0'}, {'reviewId': '057d6353-31e5-4cf1-9a6d-a9947631bece', 'userName': 'A Google user', 'userImage': 'https://play-lh.googleusercontent.com/EGemoI2NTXmTsBVtJqk8jxF9rh8ApRWfsIMQSt2uE4OcpQqbFu7f7NbTK05lx80nuSijCz7sc3a277R67g', 'content': 'For me the game itself is very well-made in terms of its graphics, audio and gameplay, what i really like about this game is the characters which are fantastic and marvelous! Highly recommend!! Thumbs up👍👍', 'score': 5, 'thumbsUpCount': 0, 'reviewCreatedVersion': '2.6.0', 'at': datetime.datetime(2024, 10, 29, 13, 38, 53), 'replyContent': None, 'repliedAt': None, 'appVersion': '2.6.0'}]\n"
     ]
    }
   ],
   "source": [
    "print ((results[0:2]))"
   ]
  },
  {
   "cell_type": "code",
   "execution_count": null,
   "metadata": {},
   "outputs": [],
   "source": [
    "# save all columns to a csv file\n",
    "with open('raw_review.csv', 'w', newline='') as csvfile:\n",
    "    writer = csv.writer(csvfile)\n",
    "    writer.writerow(results[0].keys())\n",
    "    for row in results:\n",
    "        writer.writerow(row.values())"
   ]
  },
  {
   "cell_type": "code",
   "execution_count": null,
   "metadata": {},
   "outputs": [],
   "source": [
    "# save the reviews to csv file\n",
    "import csv\n",
    "\n",
    "with open('HSR_reviews_comments.csv', mode='w', newline='', encoding='utf-8') as file:\n",
    "    writer = csv.writer(file)\n",
    "    writer.writerow([\"Review\"])\n",
    "    for review in results:\n",
    "        writer.writerow([review['content']])"
   ]
  }
 ],
 "metadata": {
  "kernelspec": {
   "display_name": "ml-learning",
   "language": "python",
   "name": "python3"
  },
  "language_info": {
   "codemirror_mode": {
    "name": "ipython",
    "version": 3
   },
   "file_extension": ".py",
   "mimetype": "text/x-python",
   "name": "python",
   "nbconvert_exporter": "python",
   "pygments_lexer": "ipython3",
   "version": "3.10.12"
  }
 },
 "nbformat": 4,
 "nbformat_minor": 2
}

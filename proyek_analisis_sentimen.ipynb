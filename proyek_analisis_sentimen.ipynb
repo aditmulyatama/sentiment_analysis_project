{
 "cells": [
  {
   "cell_type": "markdown",
   "metadata": {},
   "source": [
    "# Import libraries"
   ]
  },
  {
   "cell_type": "code",
   "execution_count": 1,
   "metadata": {},
   "outputs": [],
   "source": [
    "import pandas as pd\n",
    "pd.options.mode.chained_assignment = None  \n",
    "import numpy as np\n",
    "import matplotlib.pyplot as plt\n",
    "import seaborn as sns\n",
    "from sklearn.model_selection import train_test_split\n",
    "from sklearn.metrics import accuracy_score\n",
    "import datetime as dt \n",
    "import re\n",
    "import string\n",
    "from nltk.tokenize import word_tokenize\n",
    "from nltk.corpus import stopwords\n",
    "seed = 0\n",
    "np.random.seed(seed) "
   ]
  },
  {
   "cell_type": "markdown",
   "metadata": {},
   "source": [
    "# Load dataset"
   ]
  },
  {
   "cell_type": "code",
   "execution_count": 2,
   "metadata": {},
   "outputs": [],
   "source": [
    "df = pd.read_csv('app_review.csv')"
   ]
  },
  {
   "cell_type": "code",
   "execution_count": 3,
   "metadata": {},
   "outputs": [
    {
     "data": {
      "text/html": [
       "<div>\n",
       "<style scoped>\n",
       "    .dataframe tbody tr th:only-of-type {\n",
       "        vertical-align: middle;\n",
       "    }\n",
       "\n",
       "    .dataframe tbody tr th {\n",
       "        vertical-align: top;\n",
       "    }\n",
       "\n",
       "    .dataframe thead th {\n",
       "        text-align: right;\n",
       "    }\n",
       "</style>\n",
       "<table border=\"1\" class=\"dataframe\">\n",
       "  <thead>\n",
       "    <tr style=\"text-align: right;\">\n",
       "      <th></th>\n",
       "      <th>reviewId</th>\n",
       "      <th>userName</th>\n",
       "      <th>userImage</th>\n",
       "      <th>content</th>\n",
       "      <th>score</th>\n",
       "      <th>thumbsUpCount</th>\n",
       "      <th>reviewCreatedVersion</th>\n",
       "      <th>at</th>\n",
       "      <th>replyContent</th>\n",
       "      <th>repliedAt</th>\n",
       "      <th>appVersion</th>\n",
       "    </tr>\n",
       "  </thead>\n",
       "  <tbody>\n",
       "    <tr>\n",
       "      <th>0</th>\n",
       "      <td>9b1e9713-f88e-4547-be41-b87d840089cc</td>\n",
       "      <td>A Google user</td>\n",
       "      <td>https://play-lh.googleusercontent.com/EGemoI2N...</td>\n",
       "      <td>Great game, and I enjoy playing it, but now it...</td>\n",
       "      <td>2</td>\n",
       "      <td>1</td>\n",
       "      <td>2.6.0</td>\n",
       "      <td>2024-10-29 13:45:27</td>\n",
       "      <td>NaN</td>\n",
       "      <td>NaN</td>\n",
       "      <td>2.6.0</td>\n",
       "    </tr>\n",
       "    <tr>\n",
       "      <th>1</th>\n",
       "      <td>057d6353-31e5-4cf1-9a6d-a9947631bece</td>\n",
       "      <td>A Google user</td>\n",
       "      <td>https://play-lh.googleusercontent.com/EGemoI2N...</td>\n",
       "      <td>For me the game itself is very well-made in te...</td>\n",
       "      <td>5</td>\n",
       "      <td>0</td>\n",
       "      <td>2.6.0</td>\n",
       "      <td>2024-10-29 13:38:53</td>\n",
       "      <td>NaN</td>\n",
       "      <td>NaN</td>\n",
       "      <td>2.6.0</td>\n",
       "    </tr>\n",
       "    <tr>\n",
       "      <th>2</th>\n",
       "      <td>a78877c7-5ea4-4689-a72f-e8ead2ac8c3a</td>\n",
       "      <td>A Google user</td>\n",
       "      <td>https://play-lh.googleusercontent.com/EGemoI2N...</td>\n",
       "      <td>This game is as marvelous as Genshin Impact! T...</td>\n",
       "      <td>5</td>\n",
       "      <td>5</td>\n",
       "      <td>2.6.0</td>\n",
       "      <td>2024-10-29 13:31:21</td>\n",
       "      <td>NaN</td>\n",
       "      <td>NaN</td>\n",
       "      <td>2.6.0</td>\n",
       "    </tr>\n",
       "    <tr>\n",
       "      <th>3</th>\n",
       "      <td>59a0b3c8-1b2a-4877-84fb-c76b79b5a924</td>\n",
       "      <td>A Google user</td>\n",
       "      <td>https://play-lh.googleusercontent.com/EGemoI2N...</td>\n",
       "      <td>Not fold friendly. Cant aim at enemies at the ...</td>\n",
       "      <td>3</td>\n",
       "      <td>0</td>\n",
       "      <td>2.6.0</td>\n",
       "      <td>2024-10-29 12:48:45</td>\n",
       "      <td>NaN</td>\n",
       "      <td>NaN</td>\n",
       "      <td>2.6.0</td>\n",
       "    </tr>\n",
       "    <tr>\n",
       "      <th>4</th>\n",
       "      <td>d135b884-683a-4daa-9b2e-d8ef29c69df4</td>\n",
       "      <td>A Google user</td>\n",
       "      <td>https://play-lh.googleusercontent.com/EGemoI2N...</td>\n",
       "      <td>Other than storage this game is amazing I love...</td>\n",
       "      <td>5</td>\n",
       "      <td>0</td>\n",
       "      <td>NaN</td>\n",
       "      <td>2024-10-29 11:12:16</td>\n",
       "      <td>NaN</td>\n",
       "      <td>NaN</td>\n",
       "      <td>NaN</td>\n",
       "    </tr>\n",
       "  </tbody>\n",
       "</table>\n",
       "</div>"
      ],
      "text/plain": [
       "                               reviewId       userName  \\\n",
       "0  9b1e9713-f88e-4547-be41-b87d840089cc  A Google user   \n",
       "1  057d6353-31e5-4cf1-9a6d-a9947631bece  A Google user   \n",
       "2  a78877c7-5ea4-4689-a72f-e8ead2ac8c3a  A Google user   \n",
       "3  59a0b3c8-1b2a-4877-84fb-c76b79b5a924  A Google user   \n",
       "4  d135b884-683a-4daa-9b2e-d8ef29c69df4  A Google user   \n",
       "\n",
       "                                           userImage  \\\n",
       "0  https://play-lh.googleusercontent.com/EGemoI2N...   \n",
       "1  https://play-lh.googleusercontent.com/EGemoI2N...   \n",
       "2  https://play-lh.googleusercontent.com/EGemoI2N...   \n",
       "3  https://play-lh.googleusercontent.com/EGemoI2N...   \n",
       "4  https://play-lh.googleusercontent.com/EGemoI2N...   \n",
       "\n",
       "                                             content  score  thumbsUpCount  \\\n",
       "0  Great game, and I enjoy playing it, but now it...      2              1   \n",
       "1  For me the game itself is very well-made in te...      5              0   \n",
       "2  This game is as marvelous as Genshin Impact! T...      5              5   \n",
       "3  Not fold friendly. Cant aim at enemies at the ...      3              0   \n",
       "4  Other than storage this game is amazing I love...      5              0   \n",
       "\n",
       "  reviewCreatedVersion                   at replyContent repliedAt appVersion  \n",
       "0                2.6.0  2024-10-29 13:45:27          NaN       NaN      2.6.0  \n",
       "1                2.6.0  2024-10-29 13:38:53          NaN       NaN      2.6.0  \n",
       "2                2.6.0  2024-10-29 13:31:21          NaN       NaN      2.6.0  \n",
       "3                2.6.0  2024-10-29 12:48:45          NaN       NaN      2.6.0  \n",
       "4                  NaN  2024-10-29 11:12:16          NaN       NaN        NaN  "
      ]
     },
     "execution_count": 3,
     "metadata": {},
     "output_type": "execute_result"
    }
   ],
   "source": [
    "df.head()"
   ]
  },
  {
   "cell_type": "code",
   "execution_count": 4,
   "metadata": {},
   "outputs": [
    {
     "name": "stdout",
     "output_type": "stream",
     "text": [
      "<class 'pandas.core.frame.DataFrame'>\n",
      "RangeIndex: 37018 entries, 0 to 37017\n",
      "Data columns (total 11 columns):\n",
      " #   Column                Non-Null Count  Dtype \n",
      "---  ------                --------------  ----- \n",
      " 0   reviewId              37018 non-null  object\n",
      " 1   userName              37018 non-null  object\n",
      " 2   userImage             37018 non-null  object\n",
      " 3   content               37015 non-null  object\n",
      " 4   score                 37018 non-null  int64 \n",
      " 5   thumbsUpCount         37018 non-null  int64 \n",
      " 6   reviewCreatedVersion  26993 non-null  object\n",
      " 7   at                    37018 non-null  object\n",
      " 8   replyContent          1191 non-null   object\n",
      " 9   repliedAt             1191 non-null   object\n",
      " 10  appVersion            26993 non-null  object\n",
      "dtypes: int64(2), object(9)\n",
      "memory usage: 3.1+ MB\n"
     ]
    }
   ],
   "source": [
    "df.info()"
   ]
  },
  {
   "cell_type": "code",
   "execution_count": 5,
   "metadata": {},
   "outputs": [
    {
     "data": {
      "text/plain": [
       "(37018, 11)"
      ]
     },
     "execution_count": 5,
     "metadata": {},
     "output_type": "execute_result"
    }
   ],
   "source": [
    "df.shape"
   ]
  },
  {
   "cell_type": "code",
   "execution_count": 6,
   "metadata": {},
   "outputs": [
    {
     "name": "stdout",
     "output_type": "stream",
     "text": [
      "<class 'pandas.core.frame.DataFrame'>\n",
      "Index: 33428 entries, 0 to 37017\n",
      "Data columns (total 11 columns):\n",
      " #   Column                Non-Null Count  Dtype \n",
      "---  ------                --------------  ----- \n",
      " 0   reviewId              33428 non-null  object\n",
      " 1   userName              33428 non-null  object\n",
      " 2   userImage             33428 non-null  object\n",
      " 3   content               33428 non-null  object\n",
      " 4   score                 33428 non-null  int64 \n",
      " 5   thumbsUpCount         33428 non-null  int64 \n",
      " 6   reviewCreatedVersion  24382 non-null  object\n",
      " 7   at                    33428 non-null  object\n",
      " 8   replyContent          1178 non-null   object\n",
      " 9   repliedAt             1178 non-null   object\n",
      " 10  appVersion            24382 non-null  object\n",
      "dtypes: int64(2), object(9)\n",
      "memory usage: 3.1+ MB\n"
     ]
    }
   ],
   "source": [
    "clean_df = df.dropna(subset=['content'])\n",
    "clean_df = clean_df.drop_duplicates(subset=['content'])\n",
    "\n",
    "clean_df.info()"
   ]
  },
  {
   "cell_type": "code",
   "execution_count": 7,
   "metadata": {},
   "outputs": [
    {
     "data": {
      "text/plain": [
       "(33428, 11)"
      ]
     },
     "execution_count": 7,
     "metadata": {},
     "output_type": "execute_result"
    }
   ],
   "source": [
    "clean_df.shape"
   ]
  },
  {
   "cell_type": "code",
   "execution_count": null,
   "metadata": {},
   "outputs": [],
   "source": []
  },
  {
   "cell_type": "markdown",
   "metadata": {},
   "source": [
    "# Text Labelling"
   ]
  },
  {
   "cell_type": "code",
   "execution_count": 10,
   "metadata": {},
   "outputs": [
    {
     "name": "stderr",
     "output_type": "stream",
     "text": [
      "No model was supplied, defaulted to distilbert/distilbert-base-uncased-finetuned-sst-2-english and revision 714eb0f (https://huggingface.co/distilbert/distilbert-base-uncased-finetuned-sst-2-english).\n",
      "Using a pipeline without specifying a model name and revision in production is not recommended.\n",
      "You seem to be using the pipelines sequentially on GPU. In order to maximize efficiency please use a dataset\n"
     ]
    }
   ],
   "source": [
    "from transformers import pipeline\n",
    "\n",
    "sentiment_pipeline = pipeline('sentiment-analysis', device=\"cuda\")\n",
    "\n",
    "clean_df['sentiment'] = clean_df['content'].apply(lambda x: sentiment_pipeline(x)[0]['label'])"
   ]
  },
  {
   "cell_type": "code",
   "execution_count": 11,
   "metadata": {},
   "outputs": [
    {
     "data": {
      "text/html": [
       "<div>\n",
       "<style scoped>\n",
       "    .dataframe tbody tr th:only-of-type {\n",
       "        vertical-align: middle;\n",
       "    }\n",
       "\n",
       "    .dataframe tbody tr th {\n",
       "        vertical-align: top;\n",
       "    }\n",
       "\n",
       "    .dataframe thead th {\n",
       "        text-align: right;\n",
       "    }\n",
       "</style>\n",
       "<table border=\"1\" class=\"dataframe\">\n",
       "  <thead>\n",
       "    <tr style=\"text-align: right;\">\n",
       "      <th></th>\n",
       "      <th>content</th>\n",
       "      <th>sentiment</th>\n",
       "    </tr>\n",
       "  </thead>\n",
       "  <tbody>\n",
       "    <tr>\n",
       "      <th>0</th>\n",
       "      <td>Great game, and I enjoy playing it, but now it...</td>\n",
       "      <td>NEGATIVE</td>\n",
       "    </tr>\n",
       "    <tr>\n",
       "      <th>1</th>\n",
       "      <td>For me the game itself is very well-made in te...</td>\n",
       "      <td>POSITIVE</td>\n",
       "    </tr>\n",
       "    <tr>\n",
       "      <th>2</th>\n",
       "      <td>This game is as marvelous as Genshin Impact! T...</td>\n",
       "      <td>POSITIVE</td>\n",
       "    </tr>\n",
       "    <tr>\n",
       "      <th>3</th>\n",
       "      <td>Not fold friendly. Cant aim at enemies at the ...</td>\n",
       "      <td>NEGATIVE</td>\n",
       "    </tr>\n",
       "    <tr>\n",
       "      <th>4</th>\n",
       "      <td>Other than storage this game is amazing I love...</td>\n",
       "      <td>POSITIVE</td>\n",
       "    </tr>\n",
       "  </tbody>\n",
       "</table>\n",
       "</div>"
      ],
      "text/plain": [
       "                                             content sentiment\n",
       "0  Great game, and I enjoy playing it, but now it...  NEGATIVE\n",
       "1  For me the game itself is very well-made in te...  POSITIVE\n",
       "2  This game is as marvelous as Genshin Impact! T...  POSITIVE\n",
       "3  Not fold friendly. Cant aim at enemies at the ...  NEGATIVE\n",
       "4  Other than storage this game is amazing I love...  POSITIVE"
      ]
     },
     "execution_count": 11,
     "metadata": {},
     "output_type": "execute_result"
    }
   ],
   "source": [
    "clean_df[['content','sentiment']].head()"
   ]
  },
  {
   "cell_type": "code",
   "execution_count": 12,
   "metadata": {},
   "outputs": [],
   "source": [
    "clean_df.to_csv('clean_app_review.csv', index=False)"
   ]
  },
  {
   "cell_type": "markdown",
   "metadata": {},
   "source": [
    "# Text Preprocessing"
   ]
  },
  {
   "cell_type": "code",
   "execution_count": null,
   "metadata": {},
   "outputs": [],
   "source": [
    "# uncomment this if error happens in the next cell\n",
    "# import nltk\n",
    "# nltk.download('stopwords')"
   ]
  },
  {
   "cell_type": "code",
   "execution_count": 8,
   "metadata": {},
   "outputs": [
    {
     "data": {
      "text/html": [
       "<div>\n",
       "<style scoped>\n",
       "    .dataframe tbody tr th:only-of-type {\n",
       "        vertical-align: middle;\n",
       "    }\n",
       "\n",
       "    .dataframe tbody tr th {\n",
       "        vertical-align: top;\n",
       "    }\n",
       "\n",
       "    .dataframe thead th {\n",
       "        text-align: right;\n",
       "    }\n",
       "</style>\n",
       "<table border=\"1\" class=\"dataframe\">\n",
       "  <thead>\n",
       "    <tr style=\"text-align: right;\">\n",
       "      <th></th>\n",
       "      <th>content</th>\n",
       "      <th>cleaned_content</th>\n",
       "    </tr>\n",
       "  </thead>\n",
       "  <tbody>\n",
       "    <tr>\n",
       "      <th>0</th>\n",
       "      <td>Great game, and I enjoy playing it, but now it...</td>\n",
       "      <td>great game enjoy playing starting crash often</td>\n",
       "    </tr>\n",
       "    <tr>\n",
       "      <th>1</th>\n",
       "      <td>For me the game itself is very well-made in te...</td>\n",
       "      <td>game wellmade terms graphics audio gameplay re...</td>\n",
       "    </tr>\n",
       "    <tr>\n",
       "      <th>2</th>\n",
       "      <td>This game is as marvelous as Genshin Impact! T...</td>\n",
       "      <td>game marvelous genshin impact characters uniqu...</td>\n",
       "    </tr>\n",
       "    <tr>\n",
       "      <th>3</th>\n",
       "      <td>Not fold friendly. Cant aim at enemies at the ...</td>\n",
       "      <td>fold friendly cant aim enemies edge theres roo...</td>\n",
       "    </tr>\n",
       "    <tr>\n",
       "      <th>4</th>\n",
       "      <td>Other than storage this game is amazing I love...</td>\n",
       "      <td>storage game amazing loved lot</td>\n",
       "    </tr>\n",
       "  </tbody>\n",
       "</table>\n",
       "</div>"
      ],
      "text/plain": [
       "                                             content  \\\n",
       "0  Great game, and I enjoy playing it, but now it...   \n",
       "1  For me the game itself is very well-made in te...   \n",
       "2  This game is as marvelous as Genshin Impact! T...   \n",
       "3  Not fold friendly. Cant aim at enemies at the ...   \n",
       "4  Other than storage this game is amazing I love...   \n",
       "\n",
       "                                     cleaned_content  \n",
       "0      great game enjoy playing starting crash often  \n",
       "1  game wellmade terms graphics audio gameplay re...  \n",
       "2  game marvelous genshin impact characters uniqu...  \n",
       "3  fold friendly cant aim enemies edge theres roo...  \n",
       "4                     storage game amazing loved lot  "
      ]
     },
     "execution_count": 8,
     "metadata": {},
     "output_type": "execute_result"
    }
   ],
   "source": [
    "# Function to clean text\n",
    "def clean_text(text):\n",
    "    # Convert text to lowercase\n",
    "    text = text.lower()\n",
    "    \n",
    "    # Remove punctuation\n",
    "    text = re.sub(f'[{re.escape(string.punctuation)}]', '', text)\n",
    "    \n",
    "    # Tokenize the text\n",
    "    tokens = word_tokenize(text)\n",
    "    \n",
    "    # Remove stopwords\n",
    "    stop_words = set(stopwords.words('english'))\n",
    "    tokens = [word for word in tokens if word not in stop_words]\n",
    "    \n",
    "    # Join tokens back to string\n",
    "    cleaned_text = ' '.join(tokens)\n",
    "    \n",
    "    return cleaned_text\n",
    "\n",
    "# Apply the cleaning function to the 'content' column\n",
    "clean_df['cleaned_content'] = clean_df['content'].apply(clean_text)\n",
    "\n",
    "# Display the cleaned data\n",
    "clean_df[['content', 'cleaned_content']].head()"
   ]
  },
  {
   "cell_type": "code",
   "execution_count": 9,
   "metadata": {},
   "outputs": [
    {
     "data": {
      "text/html": [
       "<div>\n",
       "<style scoped>\n",
       "    .dataframe tbody tr th:only-of-type {\n",
       "        vertical-align: middle;\n",
       "    }\n",
       "\n",
       "    .dataframe tbody tr th {\n",
       "        vertical-align: top;\n",
       "    }\n",
       "\n",
       "    .dataframe thead th {\n",
       "        text-align: right;\n",
       "    }\n",
       "</style>\n",
       "<table border=\"1\" class=\"dataframe\">\n",
       "  <thead>\n",
       "    <tr style=\"text-align: right;\">\n",
       "      <th></th>\n",
       "      <th>reviewId</th>\n",
       "      <th>userName</th>\n",
       "      <th>userImage</th>\n",
       "      <th>content</th>\n",
       "      <th>score</th>\n",
       "      <th>thumbsUpCount</th>\n",
       "      <th>reviewCreatedVersion</th>\n",
       "      <th>at</th>\n",
       "      <th>replyContent</th>\n",
       "      <th>repliedAt</th>\n",
       "      <th>appVersion</th>\n",
       "      <th>cleaned_content</th>\n",
       "    </tr>\n",
       "  </thead>\n",
       "  <tbody>\n",
       "    <tr>\n",
       "      <th>0</th>\n",
       "      <td>9b1e9713-f88e-4547-be41-b87d840089cc</td>\n",
       "      <td>A Google user</td>\n",
       "      <td>https://play-lh.googleusercontent.com/EGemoI2N...</td>\n",
       "      <td>Great game, and I enjoy playing it, but now it...</td>\n",
       "      <td>2</td>\n",
       "      <td>1</td>\n",
       "      <td>2.6.0</td>\n",
       "      <td>2024-10-29 13:45:27</td>\n",
       "      <td>NaN</td>\n",
       "      <td>NaN</td>\n",
       "      <td>2.6.0</td>\n",
       "      <td>great game enjoy playing starting crash often</td>\n",
       "    </tr>\n",
       "    <tr>\n",
       "      <th>1</th>\n",
       "      <td>057d6353-31e5-4cf1-9a6d-a9947631bece</td>\n",
       "      <td>A Google user</td>\n",
       "      <td>https://play-lh.googleusercontent.com/EGemoI2N...</td>\n",
       "      <td>For me the game itself is very well-made in te...</td>\n",
       "      <td>5</td>\n",
       "      <td>0</td>\n",
       "      <td>2.6.0</td>\n",
       "      <td>2024-10-29 13:38:53</td>\n",
       "      <td>NaN</td>\n",
       "      <td>NaN</td>\n",
       "      <td>2.6.0</td>\n",
       "      <td>game wellmade terms graphics audio gameplay re...</td>\n",
       "    </tr>\n",
       "    <tr>\n",
       "      <th>2</th>\n",
       "      <td>a78877c7-5ea4-4689-a72f-e8ead2ac8c3a</td>\n",
       "      <td>A Google user</td>\n",
       "      <td>https://play-lh.googleusercontent.com/EGemoI2N...</td>\n",
       "      <td>This game is as marvelous as Genshin Impact! T...</td>\n",
       "      <td>5</td>\n",
       "      <td>5</td>\n",
       "      <td>2.6.0</td>\n",
       "      <td>2024-10-29 13:31:21</td>\n",
       "      <td>NaN</td>\n",
       "      <td>NaN</td>\n",
       "      <td>2.6.0</td>\n",
       "      <td>game marvelous genshin impact characters uniqu...</td>\n",
       "    </tr>\n",
       "    <tr>\n",
       "      <th>3</th>\n",
       "      <td>59a0b3c8-1b2a-4877-84fb-c76b79b5a924</td>\n",
       "      <td>A Google user</td>\n",
       "      <td>https://play-lh.googleusercontent.com/EGemoI2N...</td>\n",
       "      <td>Not fold friendly. Cant aim at enemies at the ...</td>\n",
       "      <td>3</td>\n",
       "      <td>0</td>\n",
       "      <td>2.6.0</td>\n",
       "      <td>2024-10-29 12:48:45</td>\n",
       "      <td>NaN</td>\n",
       "      <td>NaN</td>\n",
       "      <td>2.6.0</td>\n",
       "      <td>fold friendly cant aim enemies edge theres roo...</td>\n",
       "    </tr>\n",
       "    <tr>\n",
       "      <th>4</th>\n",
       "      <td>d135b884-683a-4daa-9b2e-d8ef29c69df4</td>\n",
       "      <td>A Google user</td>\n",
       "      <td>https://play-lh.googleusercontent.com/EGemoI2N...</td>\n",
       "      <td>Other than storage this game is amazing I love...</td>\n",
       "      <td>5</td>\n",
       "      <td>0</td>\n",
       "      <td>NaN</td>\n",
       "      <td>2024-10-29 11:12:16</td>\n",
       "      <td>NaN</td>\n",
       "      <td>NaN</td>\n",
       "      <td>NaN</td>\n",
       "      <td>storage game amazing loved lot</td>\n",
       "    </tr>\n",
       "  </tbody>\n",
       "</table>\n",
       "</div>"
      ],
      "text/plain": [
       "                               reviewId       userName  \\\n",
       "0  9b1e9713-f88e-4547-be41-b87d840089cc  A Google user   \n",
       "1  057d6353-31e5-4cf1-9a6d-a9947631bece  A Google user   \n",
       "2  a78877c7-5ea4-4689-a72f-e8ead2ac8c3a  A Google user   \n",
       "3  59a0b3c8-1b2a-4877-84fb-c76b79b5a924  A Google user   \n",
       "4  d135b884-683a-4daa-9b2e-d8ef29c69df4  A Google user   \n",
       "\n",
       "                                           userImage  \\\n",
       "0  https://play-lh.googleusercontent.com/EGemoI2N...   \n",
       "1  https://play-lh.googleusercontent.com/EGemoI2N...   \n",
       "2  https://play-lh.googleusercontent.com/EGemoI2N...   \n",
       "3  https://play-lh.googleusercontent.com/EGemoI2N...   \n",
       "4  https://play-lh.googleusercontent.com/EGemoI2N...   \n",
       "\n",
       "                                             content  score  thumbsUpCount  \\\n",
       "0  Great game, and I enjoy playing it, but now it...      2              1   \n",
       "1  For me the game itself is very well-made in te...      5              0   \n",
       "2  This game is as marvelous as Genshin Impact! T...      5              5   \n",
       "3  Not fold friendly. Cant aim at enemies at the ...      3              0   \n",
       "4  Other than storage this game is amazing I love...      5              0   \n",
       "\n",
       "  reviewCreatedVersion                   at replyContent repliedAt appVersion  \\\n",
       "0                2.6.0  2024-10-29 13:45:27          NaN       NaN      2.6.0   \n",
       "1                2.6.0  2024-10-29 13:38:53          NaN       NaN      2.6.0   \n",
       "2                2.6.0  2024-10-29 13:31:21          NaN       NaN      2.6.0   \n",
       "3                2.6.0  2024-10-29 12:48:45          NaN       NaN      2.6.0   \n",
       "4                  NaN  2024-10-29 11:12:16          NaN       NaN        NaN   \n",
       "\n",
       "                                     cleaned_content  \n",
       "0      great game enjoy playing starting crash often  \n",
       "1  game wellmade terms graphics audio gameplay re...  \n",
       "2  game marvelous genshin impact characters uniqu...  \n",
       "3  fold friendly cant aim enemies edge theres roo...  \n",
       "4                     storage game amazing loved lot  "
      ]
     },
     "execution_count": 9,
     "metadata": {},
     "output_type": "execute_result"
    }
   ],
   "source": [
    "clean_df.head()"
   ]
  },
  {
   "cell_type": "markdown",
   "metadata": {},
   "source": []
  },
  {
   "cell_type": "markdown",
   "metadata": {},
   "source": []
  }
 ],
 "metadata": {
  "kernelspec": {
   "display_name": "ml-learning",
   "language": "python",
   "name": "python3"
  },
  "language_info": {
   "codemirror_mode": {
    "name": "ipython",
    "version": 3
   },
   "file_extension": ".py",
   "mimetype": "text/x-python",
   "name": "python",
   "nbconvert_exporter": "python",
   "pygments_lexer": "ipython3",
   "version": "3.10.12"
  }
 },
 "nbformat": 4,
 "nbformat_minor": 2
}
